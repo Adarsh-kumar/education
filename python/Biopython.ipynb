{
 "metadata": {
  "name": ""
 },
 "nbformat": 3,
 "nbformat_minor": 0,
 "worksheets": [
  {
   "cells": [
    {
     "cell_type": "markdown",
     "metadata": {},
     "source": [
      "###Sequence Object"
     ]
    },
    {
     "cell_type": "code",
     "collapsed": false,
     "input": [
      "from Bio.Seq import Seq\n",
      "from Bio.Alphabet import IUPAC"
     ],
     "language": "python",
     "metadata": {},
     "outputs": [],
     "prompt_number": 59
    },
    {
     "cell_type": "code",
     "collapsed": false,
     "input": [
      "s = Seq('SLPKKRRRN'*200, IUPAC.protein) # explicit definition"
     ],
     "language": "python",
     "metadata": {},
     "outputs": [],
     "prompt_number": 60
    },
    {
     "cell_type": "code",
     "collapsed": false,
     "input": [
      "s"
     ],
     "language": "python",
     "metadata": {},
     "outputs": [
      {
       "metadata": {},
       "output_type": "pyout",
       "prompt_number": 61,
       "text": [
        "Seq('SLPKKRRRNSLPKKRRRNSLPKKRRRNSLPKKRRRNSLPKKRRRNSLPKKRRRN...RRN', IUPACProtein())"
       ]
      }
     ],
     "prompt_number": 61
    },
    {
     "cell_type": "code",
     "collapsed": false,
     "input": [
      "print(s)"
     ],
     "language": "python",
     "metadata": {},
     "outputs": [
      {
       "output_type": "stream",
       "stream": "stdout",
       "text": [
        "SLPKKRRRNSLPKKRRRNSLPKKRRRNSLPKKRRRNSLPKKRRRNSLPKKRRRNSLPKKRRRNSLPKKRRRNSLPKKRRRNSLPKKRRRNSLPKKRRRNSLPKKRRRNSLPKKRRRNSLPKKRRRNSLPKKRRRNSLPKKRRRNSLPKKRRRNSLPKKRRRNSLPKKRRRNSLPKKRRRNSLPKKRRRNSLPKKRRRNSLPKKRRRNSLPKKRRRNSLPKKRRRNSLPKKRRRNSLPKKRRRNSLPKKRRRNSLPKKRRRNSLPKKRRRNSLPKKRRRNSLPKKRRRNSLPKKRRRNSLPKKRRRNSLPKKRRRNSLPKKRRRNSLPKKRRRNSLPKKRRRNSLPKKRRRNSLPKKRRRNSLPKKRRRNSLPKKRRRNSLPKKRRRNSLPKKRRRNSLPKKRRRNSLPKKRRRNSLPKKRRRNSLPKKRRRNSLPKKRRRNSLPKKRRRNSLPKKRRRNSLPKKRRRNSLPKKRRRNSLPKKRRRNSLPKKRRRNSLPKKRRRNSLPKKRRRNSLPKKRRRNSLPKKRRRNSLPKKRRRNSLPKKRRRNSLPKKRRRNSLPKKRRRNSLPKKRRRNSLPKKRRRNSLPKKRRRNSLPKKRRRNSLPKKRRRNSLPKKRRRNSLPKKRRRNSLPKKRRRNSLPKKRRRNSLPKKRRRNSLPKKRRRNSLPKKRRRNSLPKKRRRNSLPKKRRRNSLPKKRRRNSLPKKRRRNSLPKKRRRNSLPKKRRRNSLPKKRRRNSLPKKRRRNSLPKKRRRNSLPKKRRRNSLPKKRRRNSLPKKRRRNSLPKKRRRNSLPKKRRRNSLPKKRRRNSLPKKRRRNSLPKKRRRNSLPKKRRRNSLPKKRRRNSLPKKRRRNSLPKKRRRNSLPKKRRRNSLPKKRRRNSLPKKRRRNSLPKKRRRNSLPKKRRRNSLPKKRRRNSLPKKRRRNSLPKKRRRNSLPKKRRRNSLPKKRRRNSLPKKRRRNSLPKKRRRNSLPKKRRRNSLPKKRRRNSLPKKRRRNSLPKKRRRNSLPKKRRRNSLPKKRRRNSLPKKRRRNSLPKKRRRNSLPKKRRRNSLPKKRRRNSLPKKRRRNSLPKKRRRNSLPKKRRRNSLPKKRRRNSLPKKRRRNSLPKKRRRNSLPKKRRRNSLPKKRRRNSLPKKRRRNSLPKKRRRNSLPKKRRRNSLPKKRRRNSLPKKRRRNSLPKKRRRNSLPKKRRRNSLPKKRRRNSLPKKRRRNSLPKKRRRNSLPKKRRRNSLPKKRRRNSLPKKRRRNSLPKKRRRNSLPKKRRRNSLPKKRRRNSLPKKRRRNSLPKKRRRNSLPKKRRRNSLPKKRRRNSLPKKRRRNSLPKKRRRNSLPKKRRRNSLPKKRRRNSLPKKRRRNSLPKKRRRNSLPKKRRRNSLPKKRRRNSLPKKRRRNSLPKKRRRNSLPKKRRRNSLPKKRRRNSLPKKRRRNSLPKKRRRNSLPKKRRRNSLPKKRRRNSLPKKRRRNSLPKKRRRNSLPKKRRRNSLPKKRRRNSLPKKRRRNSLPKKRRRNSLPKKRRRNSLPKKRRRNSLPKKRRRNSLPKKRRRNSLPKKRRRNSLPKKRRRNSLPKKRRRNSLPKKRRRNSLPKKRRRNSLPKKRRRNSLPKKRRRNSLPKKRRRNSLPKKRRRNSLPKKRRRNSLPKKRRRNSLPKKRRRNSLPKKRRRNSLPKKRRRNSLPKKRRRNSLPKKRRRNSLPKKRRRNSLPKKRRRNSLPKKRRRNSLPKKRRRNSLPKKRRRNSLPKKRRRNSLPKKRRRNSLPKKRRRNSLPKKRRRNSLPKKRRRNSLPKKRRRNSLPKKRRRN\n"
       ]
      }
     ],
     "prompt_number": 62
    },
    {
     "cell_type": "code",
     "collapsed": false,
     "input": [
      "s[:5] # slicing"
     ],
     "language": "python",
     "metadata": {},
     "outputs": [
      {
       "metadata": {},
       "output_type": "pyout",
       "prompt_number": 63,
       "text": [
        "Seq('SLPKK', IUPACProtein())"
       ]
      }
     ],
     "prompt_number": 63
    },
    {
     "cell_type": "code",
     "collapsed": false,
     "input": [
      "s.tostring()[:5] # convert to string"
     ],
     "language": "python",
     "metadata": {},
     "outputs": [
      {
       "metadata": {},
       "output_type": "pyout",
       "prompt_number": 64,
       "text": [
        "'SLPKK'"
       ]
      }
     ],
     "prompt_number": 64
    },
    {
     "cell_type": "markdown",
     "metadata": {},
     "source": [
      "###Sequence Record"
     ]
    },
    {
     "cell_type": "code",
     "collapsed": false,
     "input": [
      "from Bio.SeqRecord import SeqRecord"
     ],
     "language": "python",
     "metadata": {},
     "outputs": [],
     "prompt_number": 65
    },
    {
     "cell_type": "code",
     "collapsed": false,
     "input": [
      "rec = SeqRecord(s, id='foo')"
     ],
     "language": "python",
     "metadata": {},
     "outputs": [],
     "prompt_number": 66
    },
    {
     "cell_type": "code",
     "collapsed": false,
     "input": [
      "rec"
     ],
     "language": "python",
     "metadata": {},
     "outputs": [
      {
       "metadata": {},
       "output_type": "pyout",
       "prompt_number": 67,
       "text": [
        "SeqRecord(seq=Seq('SLPKKRRRNSLPKKRRRNSLPKKRRRNSLPKKRRRNSLPKKRRRNSLPKKRRRN...RRN', IUPACProtein()), id='foo', name='<unknown name>', description='<unknown description>', dbxrefs=[])"
       ]
      }
     ],
     "prompt_number": 67
    },
    {
     "cell_type": "code",
     "collapsed": false,
     "input": [
      "rec.description = \"Novel gene of Japanese flying squirrel\"\n",
      "rec.name = \"bar\""
     ],
     "language": "python",
     "metadata": {},
     "outputs": [],
     "prompt_number": 68
    },
    {
     "cell_type": "code",
     "collapsed": false,
     "input": [
      "rec"
     ],
     "language": "python",
     "metadata": {},
     "outputs": [
      {
       "metadata": {},
       "output_type": "pyout",
       "prompt_number": 69,
       "text": [
        "SeqRecord(seq=Seq('SLPKKRRRNSLPKKRRRNSLPKKRRRNSLPKKRRRNSLPKKRRRNSLPKKRRRN...RRN', IUPACProtein()), id='foo', name='bar', description='Novel gene of Japanese flying squirrel', dbxrefs=[])"
       ]
      }
     ],
     "prompt_number": 69
    },
    {
     "cell_type": "code",
     "collapsed": false,
     "input": [
      "import sys"
     ],
     "language": "python",
     "metadata": {},
     "outputs": [],
     "prompt_number": 70
    },
    {
     "cell_type": "code",
     "collapsed": false,
     "input": [
      "from Bio import SeqIO"
     ],
     "language": "python",
     "metadata": {},
     "outputs": [],
     "prompt_number": 71
    },
    {
     "cell_type": "code",
     "collapsed": false,
     "input": [
      "SeqIO.write(rec, sys.stdout, 'fasta')"
     ],
     "language": "python",
     "metadata": {},
     "outputs": [
      {
       "output_type": "stream",
       "stream": "stdout",
       "text": [
        ">foo Novel gene of Japanese flying squirrel\n",
        "SLPKKRRRNSLPKKRRRNSLPKKRRRNSLPKKRRRNSLPKKRRRNSLPKKRRRNSLPKKR\n",
        "RRNSLPKKRRRNSLPKKRRRNSLPKKRRRNSLPKKRRRNSLPKKRRRNSLPKKRRRNSLP\n",
        "KKRRRNSLPKKRRRNSLPKKRRRNSLPKKRRRNSLPKKRRRNSLPKKRRRNSLPKKRRRN\n",
        "SLPKKRRRNSLPKKRRRNSLPKKRRRNSLPKKRRRNSLPKKRRRNSLPKKRRRNSLPKKR\n",
        "RRNSLPKKRRRNSLPKKRRRNSLPKKRRRNSLPKKRRRNSLPKKRRRNSLPKKRRRNSLP\n",
        "KKRRRNSLPKKRRRNSLPKKRRRNSLPKKRRRNSLPKKRRRNSLPKKRRRNSLPKKRRRN\n",
        "SLPKKRRRNSLPKKRRRNSLPKKRRRNSLPKKRRRNSLPKKRRRNSLPKKRRRNSLPKKR\n",
        "RRNSLPKKRRRNSLPKKRRRNSLPKKRRRNSLPKKRRRNSLPKKRRRNSLPKKRRRNSLP\n",
        "KKRRRNSLPKKRRRNSLPKKRRRNSLPKKRRRNSLPKKRRRNSLPKKRRRNSLPKKRRRN\n",
        "SLPKKRRRNSLPKKRRRNSLPKKRRRNSLPKKRRRNSLPKKRRRNSLPKKRRRNSLPKKR\n",
        "RRNSLPKKRRRNSLPKKRRRNSLPKKRRRNSLPKKRRRNSLPKKRRRNSLPKKRRRNSLP\n",
        "KKRRRNSLPKKRRRNSLPKKRRRNSLPKKRRRNSLPKKRRRNSLPKKRRRNSLPKKRRRN\n",
        "SLPKKRRRNSLPKKRRRNSLPKKRRRNSLPKKRRRNSLPKKRRRNSLPKKRRRNSLPKKR\n",
        "RRNSLPKKRRRNSLPKKRRRNSLPKKRRRNSLPKKRRRNSLPKKRRRNSLPKKRRRNSLP\n",
        "KKRRRNSLPKKRRRNSLPKKRRRNSLPKKRRRNSLPKKRRRNSLPKKRRRNSLPKKRRRN\n",
        "SLPKKRRRNSLPKKRRRNSLPKKRRRNSLPKKRRRNSLPKKRRRNSLPKKRRRNSLPKKR\n",
        "RRNSLPKKRRRNSLPKKRRRNSLPKKRRRNSLPKKRRRNSLPKKRRRNSLPKKRRRNSLP\n",
        "KKRRRNSLPKKRRRNSLPKKRRRNSLPKKRRRNSLPKKRRRNSLPKKRRRNSLPKKRRRN\n",
        "SLPKKRRRNSLPKKRRRNSLPKKRRRNSLPKKRRRNSLPKKRRRNSLPKKRRRNSLPKKR\n",
        "RRNSLPKKRRRNSLPKKRRRNSLPKKRRRNSLPKKRRRNSLPKKRRRNSLPKKRRRNSLP\n",
        "KKRRRNSLPKKRRRNSLPKKRRRNSLPKKRRRNSLPKKRRRNSLPKKRRRNSLPKKRRRN\n",
        "SLPKKRRRNSLPKKRRRNSLPKKRRRNSLPKKRRRNSLPKKRRRNSLPKKRRRNSLPKKR\n",
        "RRNSLPKKRRRNSLPKKRRRNSLPKKRRRNSLPKKRRRNSLPKKRRRNSLPKKRRRNSLP\n",
        "KKRRRNSLPKKRRRNSLPKKRRRNSLPKKRRRNSLPKKRRRNSLPKKRRRNSLPKKRRRN\n",
        "SLPKKRRRNSLPKKRRRNSLPKKRRRNSLPKKRRRNSLPKKRRRNSLPKKRRRNSLPKKR\n",
        "RRNSLPKKRRRNSLPKKRRRNSLPKKRRRNSLPKKRRRNSLPKKRRRNSLPKKRRRNSLP\n",
        "KKRRRNSLPKKRRRNSLPKKRRRNSLPKKRRRNSLPKKRRRNSLPKKRRRNSLPKKRRRN\n",
        "SLPKKRRRNSLPKKRRRNSLPKKRRRNSLPKKRRRNSLPKKRRRNSLPKKRRRNSLPKKR\n",
        "RRNSLPKKRRRNSLPKKRRRNSLPKKRRRNSLPKKRRRNSLPKKRRRNSLPKKRRRNSLP\n",
        "KKRRRNSLPKKRRRNSLPKKRRRNSLPKKRRRNSLPKKRRRNSLPKKRRRNSLPKKRRRN\n"
       ]
      },
      {
       "metadata": {},
       "output_type": "pyout",
       "prompt_number": 72,
       "text": [
        "1"
       ]
      }
     ],
     "prompt_number": 72
    },
    {
     "cell_type": "code",
     "collapsed": false,
     "input": [
      "for rec in SeqIO.parse('prot.fa', 'fasta'):\n",
      "    break"
     ],
     "language": "python",
     "metadata": {},
     "outputs": [],
     "prompt_number": 73
    },
    {
     "cell_type": "code",
     "collapsed": false,
     "input": [
      "rec.id, rec.description"
     ],
     "language": "python",
     "metadata": {},
     "outputs": [
      {
       "metadata": {},
       "output_type": "pyout",
       "prompt_number": 74,
       "text": [
        "('chr5:19464.4;', 'chr5:19464.4; 910 678 1808 LEN=4217; translated')"
       ]
      }
     ],
     "prompt_number": 74
    },
    {
     "cell_type": "code",
     "collapsed": false,
     "input": [
      "rec.seq"
     ],
     "language": "python",
     "metadata": {},
     "outputs": [
      {
       "metadata": {},
       "output_type": "pyout",
       "prompt_number": 75,
       "text": [
        "Seq('MSLFSQTHFEEDSQEQPAVGYWKPLMPSKGSKEEPEAGCQDAGSGDDSQSTEQR...SEM', SingleLetterAlphabet())"
       ]
      }
     ],
     "prompt_number": 75
    },
    {
     "cell_type": "code",
     "collapsed": false,
     "input": [
      "print rec.seq[:20]"
     ],
     "language": "python",
     "metadata": {},
     "outputs": [
      {
       "output_type": "stream",
       "stream": "stdout",
       "text": [
        "MSLFSQTHFEEDSQEQPAVG\n"
       ]
      }
     ],
     "prompt_number": 76
    },
    {
     "cell_type": "markdown",
     "metadata": {},
     "source": [
      "###Parse BLAST output (XML)"
     ]
    },
    {
     "cell_type": "code",
     "collapsed": false,
     "input": [
      "# example of using enumerate()\n",
      "chunk = []\n",
      "for n, i in enumerate(range(100000), start=1):\n",
      "    chunk.append(rec)\n",
      "    # do something\n",
      "    if n % 100 == 0:\n",
      "        SeqIO.write(chunk, 'output_%d' % n, 'fasta')\n",
      "        chunk = []"
     ],
     "language": "python",
     "metadata": {},
     "outputs": [
      {
       "output_type": "stream",
       "stream": "stdout",
       "text": [
        "10000 ...\n",
        "20000 ...\n",
        "30000 ...\n",
        "40000 ...\n",
        "50000 ...\n",
        "60000 ...\n",
        "70000 ...\n",
        "80000 ...\n",
        "90000 ...\n",
        "100000 ...\n"
       ]
      }
     ],
     "prompt_number": 80
    },
    {
     "cell_type": "code",
     "collapsed": false,
     "input": [
      "from Bio.Blast import NCBIXML\n",
      "\n",
      "handle = open('prot.xml')\n",
      "for n, blast_rec in enumerate(NCBIXML.parse(handle)):\n",
      "    for alignment in blast_rec.alignments:\n",
      "        for hsp in alignment.hsps:\n",
      "            print alignment.title\n",
      "            print 'e-value =', hsp.expect\n",
      "            print hsp.query[:25], '...'\n",
      "            print hsp.match[:25], '...'\n",
      "            print hsp.sbjct[:25], '...'\n",
      "            break\n",
      "        break\n",
      "    if n == 4:\n",
      "        break"
     ],
     "language": "python",
     "metadata": {},
     "outputs": [
      {
       "output_type": "stream",
       "stream": "stdout",
       "text": [
        "gi|313851027|ref|NP_001186568.1| guanine nucleotide exchange factor for Rab-3A [Gallus gallus]\n",
        "e-value = 0.0\n",
        "MSLFSQTHFEEDSQEQPAVGYWKPL ...\n",
        "MSLFSQTHFEEDSQEQPAVGYWKPL ...\n",
        "MSLFSQTHFEEDSQEQPAVGYWKPL ...\n",
        "gi|118090696|ref|XP_420803.2| PREDICTED: wolframin isoform X3 [Gallus gallus]\n",
        "e-value = 0.0\n",
        "LHPGRSQLNAAAVDRSESRHKSGPS ...\n",
        "LHPGRSQLNAAAVDRSESRHKSGPS ...\n",
        "LHPGRSQLNAAAVDRSESRHKSGPS ...\n",
        "gi|513162590|ref|XP_416687.4| PREDICTED: LOW QUALITY PROTEIN: A disintegrin and metalloproteinase with thrombospondin motifs 1 [Gallus gallus]\n",
        "e-value = 0.0\n",
        "MLVADQSMAEFHGSGLKHYLLTLLS ...\n",
        "MLVADQSMAEFHGSGLKHYLLTLLS ...\n",
        "MLVADQSMAEFHGSGLKHYLLTLLS ...\n",
        "gi|542155750|ref|XP_005486687.1| PREDICTED: tubby protein isoform X4 [Zonotrichia albicollis]"
       ]
      },
      {
       "output_type": "stream",
       "stream": "stdout",
       "text": [
        "\n",
        "e-value = 0.0\n",
        "MTSRHQADWIPYSVLDDEGSNLRQQ ...\n",
        "M+SRHQADWIPYSVLDDEGS+LRQQ ...\n",
        "MSSRHQADWIPYSVLDDEGSSLRQQ ...\n"
       ]
      }
     ],
     "prompt_number": 77
    },
    {
     "cell_type": "markdown",
     "metadata": {},
     "source": [
      "###Run BLAST online"
     ]
    },
    {
     "cell_type": "code",
     "collapsed": false,
     "input": [
      "from Bio.Blast import NCBIWWW\n",
      "result_handle = NCBIWWW.qblast(\"blastp\", \"nr\", rec.seq)"
     ],
     "language": "python",
     "metadata": {},
     "outputs": []
    },
    {
     "cell_type": "code",
     "collapsed": false,
     "input": [
      "savefile = open('blast_out.xml', 'w')\n",
      "savefile.write(result_handle.read())\n",
      "savefile.close()\n",
      "result_handle.close()"
     ],
     "language": "python",
     "metadata": {},
     "outputs": []
    },
    {
     "cell_type": "markdown",
     "metadata": {},
     "source": [
      "###File format conversion"
     ]
    },
    {
     "cell_type": "code",
     "collapsed": false,
     "input": [
      "from Bio import SeqIO\n",
      "SeqIO.convert('sample.fastq', 'fastq-illumina', 'sample.fa', 'fasta')"
     ],
     "language": "python",
     "metadata": {},
     "outputs": []
    },
    {
     "cell_type": "code",
     "collapsed": false,
     "input": [],
     "language": "python",
     "metadata": {},
     "outputs": []
    }
   ],
   "metadata": {}
  }
 ]
}